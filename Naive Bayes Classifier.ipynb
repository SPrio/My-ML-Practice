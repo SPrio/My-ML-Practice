{
 "cells": [
  {
   "cell_type": "code",
   "execution_count": 17,
   "metadata": {
    "collapsed": true
   },
   "outputs": [],
   "source": [
    "#iMplementing naive bayes classifier"
   ]
  },
  {
   "cell_type": "code",
   "execution_count": 18,
   "metadata": {
    "collapsed": true
   },
   "outputs": [],
   "source": [
    "\n",
    "import pandas as pd\n",
    "import numpy as np"
   ]
  },
  {
   "cell_type": "code",
   "execution_count": 19,
   "metadata": {},
   "outputs": [
    {
     "data": {
      "text/html": [
       "<div>\n",
       "<table border=\"1\" class=\"dataframe\">\n",
       "  <thead>\n",
       "    <tr style=\"text-align: right;\">\n",
       "      <th></th>\n",
       "      <th>gender</th>\n",
       "      <th>height</th>\n",
       "      <th>weight</th>\n",
       "      <th>foot_size</th>\n",
       "    </tr>\n",
       "  </thead>\n",
       "  <tbody>\n",
       "    <tr>\n",
       "      <th>0</th>\n",
       "      <td>male</td>\n",
       "      <td>6.00</td>\n",
       "      <td>180</td>\n",
       "      <td>12</td>\n",
       "    </tr>\n",
       "    <tr>\n",
       "      <th>1</th>\n",
       "      <td>male</td>\n",
       "      <td>5.92</td>\n",
       "      <td>190</td>\n",
       "      <td>11</td>\n",
       "    </tr>\n",
       "    <tr>\n",
       "      <th>2</th>\n",
       "      <td>male</td>\n",
       "      <td>5.58</td>\n",
       "      <td>170</td>\n",
       "      <td>12</td>\n",
       "    </tr>\n",
       "    <tr>\n",
       "      <th>3</th>\n",
       "      <td>male</td>\n",
       "      <td>5.92</td>\n",
       "      <td>165</td>\n",
       "      <td>10</td>\n",
       "    </tr>\n",
       "    <tr>\n",
       "      <th>4</th>\n",
       "      <td>female</td>\n",
       "      <td>5.00</td>\n",
       "      <td>60</td>\n",
       "      <td>6</td>\n",
       "    </tr>\n",
       "    <tr>\n",
       "      <th>5</th>\n",
       "      <td>female</td>\n",
       "      <td>5.50</td>\n",
       "      <td>80</td>\n",
       "      <td>8</td>\n",
       "    </tr>\n",
       "    <tr>\n",
       "      <th>6</th>\n",
       "      <td>female</td>\n",
       "      <td>5.42</td>\n",
       "      <td>70</td>\n",
       "      <td>7</td>\n",
       "    </tr>\n",
       "    <tr>\n",
       "      <th>7</th>\n",
       "      <td>female</td>\n",
       "      <td>5.75</td>\n",
       "      <td>90</td>\n",
       "      <td>9</td>\n",
       "    </tr>\n",
       "  </tbody>\n",
       "</table>\n",
       "</div>"
      ],
      "text/plain": [
       "   gender  height  weight  foot_size\n",
       "0    male    6.00     180         12\n",
       "1    male    5.92     190         11\n",
       "2    male    5.58     170         12\n",
       "3    male    5.92     165         10\n",
       "4  female    5.00      60          6\n",
       "5  female    5.50      80          8\n",
       "6  female    5.42      70          7\n",
       "7  female    5.75      90          9"
      ]
     },
     "execution_count": 19,
     "metadata": {},
     "output_type": "execute_result"
    }
   ],
   "source": [
    "#Creating our data\n",
    "#rest writting in copy\n",
    "#creating an empty data frame\n",
    "data=pd.DataFrame()\n",
    "\n",
    "#creating our target variables\n",
    "data['gender'] = ['male','male','male','male','female','female','female','female']\n",
    "\n",
    "#creating our feature variable\n",
    "data['height']=[6.0,5.92,5.58,5.92,5.0,5.5,5.42,5.75]\n",
    "data['weight']=[180,190,170,165,60,80,70,90]\n",
    "data['foot_size']=[12,11,12,10,6,8,7,9]\n",
    "\n",
    "#view data\n",
    "data"
   ]
  },
  {
   "cell_type": "code",
   "execution_count": 20,
   "metadata": {},
   "outputs": [
    {
     "data": {
      "text/html": [
       "<div>\n",
       "<table border=\"1\" class=\"dataframe\">\n",
       "  <thead>\n",
       "    <tr style=\"text-align: right;\">\n",
       "      <th></th>\n",
       "      <th>height</th>\n",
       "      <th>weight</th>\n",
       "      <th>foot_size</th>\n",
       "    </tr>\n",
       "  </thead>\n",
       "  <tbody>\n",
       "    <tr>\n",
       "      <th>0</th>\n",
       "      <td>6</td>\n",
       "      <td>100</td>\n",
       "      <td>10</td>\n",
       "    </tr>\n",
       "  </tbody>\n",
       "</table>\n",
       "</div>"
      ],
      "text/plain": [
       "   height  weight  foot_size\n",
       "0       6     100         10"
      ]
     },
     "execution_count": 20,
     "metadata": {},
     "output_type": "execute_result"
    }
   ],
   "source": [
    "#the above dataset is used to construct our classifier.\n",
    "#creating empty dataFrame\n",
    "person=pd.DataFrame()\n",
    "#now we shall create a new person for whom we know\n",
    "#their feature values but not the gender.\n",
    "#or goul is to predict the gender\n",
    "#creating the feature values for this single row\n",
    "person['height']=[6]\n",
    "person['weight']=[100]\n",
    "person['foot_size']=[10]\n",
    "\n",
    "#view the data\n",
    "person\n"
   ]
  },
  {
   "cell_type": "code",
   "execution_count": 21,
   "metadata": {},
   "outputs": [
    {
     "name": "stdout",
     "output_type": "stream",
     "text": [
      "count of male  = 4, female = 4 and all persons = 8 \n"
     ]
    }
   ],
   "source": [
    "#calculating the prior values\n",
    "#we shall calculate the prior for both male and feamles genders\n",
    "#prior can be either constants or probalitydistributions\n",
    "#In our example is the simply the probability of being the gender\n",
    "#number of males\n",
    "n_male=data['gender'][data['gender']=='male'].count()\n",
    "\n",
    "#number of females\n",
    "n_female=data['gender'][data['gender']=='female'].count()\n",
    "\n",
    "#total rows\n",
    "total_people = data['gender'].count()\n",
    "print('count of male  = {}, female = {} and all persons = {} '.format(n_male,n_female,total_people))\n"
   ]
  },
  {
   "cell_type": "code",
   "execution_count": 22,
   "metadata": {},
   "outputs": [
    {
     "name": "stdout",
     "output_type": "stream",
     "text": [
      "prior for male = 0.5 and female = 0.5\n"
     ]
    }
   ],
   "source": [
    "#number of male divide by the tota number of candidates\n",
    "p_male=n_male/total_people #prior for male\n",
    "\n",
    "#no. of feamles divided by the toatl number of candidates\n",
    "p_female=n_female/total_people #prior foe female\n",
    "\n",
    "print('prior for male = {} and female = {}'.format(p_male,p_female))"
   ]
  },
  {
   "cell_type": "code",
   "execution_count": 23,
   "metadata": {},
   "outputs": [
    {
     "data": {
      "text/html": [
       "<div>\n",
       "<table border=\"1\" class=\"dataframe\">\n",
       "  <thead>\n",
       "    <tr style=\"text-align: right;\">\n",
       "      <th></th>\n",
       "      <th>height</th>\n",
       "      <th>weight</th>\n",
       "      <th>foot_size</th>\n",
       "    </tr>\n",
       "    <tr>\n",
       "      <th>gender</th>\n",
       "      <th></th>\n",
       "      <th></th>\n",
       "      <th></th>\n",
       "    </tr>\n",
       "  </thead>\n",
       "  <tbody>\n",
       "    <tr>\n",
       "      <th>female</th>\n",
       "      <td>5.4175</td>\n",
       "      <td>75.00</td>\n",
       "      <td>7.50</td>\n",
       "    </tr>\n",
       "    <tr>\n",
       "      <th>male</th>\n",
       "      <td>5.8550</td>\n",
       "      <td>176.25</td>\n",
       "      <td>11.25</td>\n",
       "    </tr>\n",
       "  </tbody>\n",
       "</table>\n",
       "</div>"
      ],
      "text/plain": [
       "        height  weight  foot_size\n",
       "gender                           \n",
       "female  5.4175   75.00       7.50\n",
       "male    5.8550  176.25      11.25"
      ]
     },
     "execution_count": 23,
     "metadata": {},
     "output_type": "execute_result"
    }
   ],
   "source": [
    "#now doing group by gender and calculating the mean of each feature\n",
    "data_means=data.groupby('gender').mean()\n",
    "\n",
    "#view the values\n",
    "data_means"
   ]
  },
  {
   "cell_type": "code",
   "execution_count": 24,
   "metadata": {},
   "outputs": [
    {
     "data": {
      "text/html": [
       "<div>\n",
       "<table border=\"1\" class=\"dataframe\">\n",
       "  <thead>\n",
       "    <tr style=\"text-align: right;\">\n",
       "      <th></th>\n",
       "      <th>height</th>\n",
       "      <th>weight</th>\n",
       "      <th>foot_size</th>\n",
       "    </tr>\n",
       "    <tr>\n",
       "      <th>gender</th>\n",
       "      <th></th>\n",
       "      <th></th>\n",
       "      <th></th>\n",
       "    </tr>\n",
       "  </thead>\n",
       "  <tbody>\n",
       "    <tr>\n",
       "      <th>female</th>\n",
       "      <td>0.097225</td>\n",
       "      <td>166.666667</td>\n",
       "      <td>1.666667</td>\n",
       "    </tr>\n",
       "    <tr>\n",
       "      <th>male</th>\n",
       "      <td>0.035033</td>\n",
       "      <td>122.916667</td>\n",
       "      <td>0.916667</td>\n",
       "    </tr>\n",
       "  </tbody>\n",
       "</table>\n",
       "</div>"
      ],
      "text/plain": [
       "          height      weight  foot_size\n",
       "gender                                 \n",
       "female  0.097225  166.666667   1.666667\n",
       "male    0.035033  122.916667   0.916667"
      ]
     },
     "execution_count": 24,
     "metadata": {},
     "output_type": "execute_result"
    }
   ],
   "source": [
    "#now doing group by gender and calculate variance of each feature \n",
    "data_varience=data.groupby('gender').var()\n",
    "\n",
    "#view the values\n",
    "data_varience"
   ]
  },
  {
   "cell_type": "code",
   "execution_count": 25,
   "metadata": {},
   "outputs": [
    {
     "name": "stdout",
     "output_type": "stream",
     "text": [
      "so mean male height= 5.855, weight = 176.25, footsize = 11.25\n"
     ]
    }
   ],
   "source": [
    "#mean for male candidates\n",
    "male_height_mean  = data_means['height'][data_means.index=='male'].values[0]\n",
    "male_weight_mean  = data_means['weight'][data_means.index=='male'].values[0]\n",
    "male_footsize_mean  = data_means['foot_size'][data_means.index=='male'].values[0]\n",
    "\n",
    "\n",
    "print('so mean male height= {}, weight = {}, footsize = {}'.format(male_height_mean,male_weight_mean,male_footsize_mean))"
   ]
  },
  {
   "cell_type": "code",
   "execution_count": 26,
   "metadata": {},
   "outputs": [
    {
     "name": "stdout",
     "output_type": "stream",
     "text": [
      "so varience male height= 0.0350333333333333, weight = 122.91666666666667, footsize = 0.9166666666666665\n"
     ]
    }
   ],
   "source": [
    "#varience for male candidates\n",
    "male_height_varience  = data_varience['height'][data_varience.index=='male'].values[0]\n",
    "male_weight_varience  = data_varience['weight'][data_varience.index=='male'].values[0]\n",
    "male_footsize_varience  = data_varience['foot_size'][data_varience.index=='male'].values[0]\n",
    "\n",
    "print('so varience male height= {}, weight = {}, footsize = {}'.format(male_height_varience,male_weight_varience,male_footsize_varience))"
   ]
  },
  {
   "cell_type": "code",
   "execution_count": 27,
   "metadata": {},
   "outputs": [
    {
     "name": "stdout",
     "output_type": "stream",
     "text": [
      "so mean female height= 5.4175, weight = 75.0, footsize = 7.5\n"
     ]
    }
   ],
   "source": [
    "#mean for female candidates\n",
    "female_height_mean  = data_means['height'][data_means.index=='female'].values[0]\n",
    "female_weight_mean  = data_means['weight'][data_means.index=='female'].values[0]\n",
    "female_footsize_mean  = data_means['foot_size'][data_means.index=='female'].values[0]\n",
    "\n",
    "\n",
    "print('so mean female height= {}, weight = {}, footsize = {}'.format(female_height_mean,female_weight_mean,female_footsize_mean))"
   ]
  },
  {
   "cell_type": "code",
   "execution_count": 28,
   "metadata": {},
   "outputs": [
    {
     "name": "stdout",
     "output_type": "stream",
     "text": [
      "so varience female height= 0.09722499999999994, weight = 166.66666666666666, footsize = 1.6666666666666667\n"
     ]
    }
   ],
   "source": [
    "#varience for female candidates\n",
    "female_height_varience  = data_varience['height'][data_varience.index=='female'].values[0]\n",
    "female_weight_varience  = data_varience['weight'][data_varience.index=='female'].values[0]\n",
    "female_footsize_varience  = data_varience['foot_size'][data_varience.index=='female'].values[0]\n",
    "\n",
    "print('so varience female height= {}, weight = {}, footsize = {}'.format(female_height_varience,female_weight_varience,female_footsize_varience))"
   ]
  },
  {
   "cell_type": "code",
   "execution_count": 29,
   "metadata": {
    "collapsed": true
   },
   "outputs": [],
   "source": [
    "#writing one user defined functions which will calculate p(X/Y)\n",
    "\n",
    "def p_x_given_y (x, mean_y, var_y):#prob of x given y\n",
    "    #input ting the arguments into the probability density functin\n",
    "    p=(1/np.sqrt(2*np.pi*var_y))*np.exp(-(x-mean_y)**2/(2*var_y))\n",
    "    \n",
    "    #returning the value of p\n",
    "    return p\n",
    "    "
   ]
  },
  {
   "cell_type": "code",
   "execution_count": 30,
   "metadata": {},
   "outputs": [
    {
     "data": {
      "text/plain": [
       "2.7029820755058373e-13"
      ]
     },
     "execution_count": 30,
     "metadata": {},
     "output_type": "execute_result"
    }
   ],
   "source": [
    "#now appling bayes classifier to a new data point\n",
    "\n",
    "#we are calculating numerator part of the posterior of the male if unclassified observation is male\n",
    "num_posterior_male=p_male *\\\n",
    "p_x_given_y(person['height'][0],male_height_mean,male_height_varience)\\\n",
    "*p_x_given_y(person['weight'][0],male_weight_mean,male_weight_varience)\\\n",
    "*p_x_given_y(person['foot_size'][0],male_footsize_mean,male_footsize_varience)\n",
    "\n",
    "num_posterior_male"
   ]
  },
  {
   "cell_type": "code",
   "execution_count": 31,
   "metadata": {},
   "outputs": [
    {
     "data": {
      "text/plain": [
       "2.5091949180165409e-05"
      ]
     },
     "execution_count": 31,
     "metadata": {},
     "output_type": "execute_result"
    }
   ],
   "source": [
    "#now appling bayes classifier to a new data point\n",
    "\n",
    "#we are calculating numerator part of the posterior of the female if unclassified observation is male\n",
    "num_posterior_female=p_female *\\\n",
    "p_x_given_y(person['height'][0],female_height_mean,female_height_varience)\\\n",
    "*p_x_given_y(person['weight'][0],female_weight_mean,female_weight_varience)\\\n",
    "*p_x_given_y(person['foot_size'][0],female_footsize_mean,female_footsize_varience)\n",
    "\n",
    "num_posterior_female"
   ]
  },
  {
   "cell_type": "code",
   "execution_count": 32,
   "metadata": {},
   "outputs": [
    {
     "name": "stdout",
     "output_type": "stream",
     "text": [
      "Abra ka Dabra  :0 You are Female\n"
     ]
    }
   ],
   "source": [
    "#as numerator part of the posterior for female is higher than the same for male, so we predict that the person is female\n",
    "\n",
    "if(num_posterior_female>num_posterior_male):\n",
    "    print(\"Abra ka Dabra  :0 You are Female\")\n",
    "else:\n",
    "    (\"Abra ka Dabra  :0 You are Male\")"
   ]
  },
  {
   "cell_type": "code",
   "execution_count": null,
   "metadata": {
    "collapsed": true
   },
   "outputs": [],
   "source": []
  }
 ],
 "metadata": {
  "kernelspec": {
   "display_name": "Python 3",
   "language": "python",
   "name": "python3"
  },
  "language_info": {
   "codemirror_mode": {
    "name": "ipython",
    "version": 3
   },
   "file_extension": ".py",
   "mimetype": "text/x-python",
   "name": "python",
   "nbconvert_exporter": "python",
   "pygments_lexer": "ipython3",
   "version": "3.6.4"
  }
 },
 "nbformat": 4,
 "nbformat_minor": 2
}
